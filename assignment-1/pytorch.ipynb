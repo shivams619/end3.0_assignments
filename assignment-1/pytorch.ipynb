{
  "nbformat": 4,
  "nbformat_minor": 5,
  "metadata": {
    "kernelspec": {
      "display_name": "Python 3",
      "language": "python",
      "name": "python3"
    },
    "language_info": {
      "codemirror_mode": {
        "name": "ipython",
        "version": 3
      },
      "file_extension": ".py",
      "mimetype": "text/x-python",
      "name": "python",
      "nbconvert_exporter": "python",
      "pygments_lexer": "ipython3",
      "version": "3.8.8"
    },
    "colab": {
      "name": "pytorch.ipynb",
      "provenance": [],
      "toc_visible": true
    }
  },
  "cells": [
    {
      "cell_type": "markdown",
      "metadata": {
        "id": "X4hu9UunwtGA"
      },
      "source": [
        "#Install PyTorch <br>\n",
        "<p>PyTorch is an open source machine learning library based on the Torch library, used for applications such as computer vision and natural language processing, primarily developed by Facebook's AI Research lab.</p>"
      ],
      "id": "X4hu9UunwtGA"
    },
    {
      "cell_type": "code",
      "metadata": {
        "colab": {
          "base_uri": "https://localhost:8080/"
        },
        "id": "097b940c",
        "outputId": "84fe7268-0a40-48d7-a6df-b7db5da949d7"
      },
      "source": [
        "!pip install torch==1.9.1"
      ],
      "id": "097b940c",
      "execution_count": null,
      "outputs": [
        {
          "output_type": "stream",
          "name": "stdout",
          "text": [
            "Requirement already satisfied: torch==1.9.1 in /usr/local/lib/python3.7/dist-packages (1.9.1)\n",
            "Requirement already satisfied: typing-extensions in /usr/local/lib/python3.7/dist-packages (from torch==1.9.1) (3.7.4.3)\n"
          ]
        }
      ]
    },
    {
      "cell_type": "markdown",
      "metadata": {
        "id": "UH2zupm7xr7d"
      },
      "source": [
        "Torch-summary provides information complementary to what is provided by print(your_model) in PyTorch, similar to Tensorflow's model.summary() API to view the visualization of the model, which is helpful while debugging your network. "
      ],
      "id": "UH2zupm7xr7d"
    },
    {
      "cell_type": "code",
      "metadata": {
        "id": "758a89ed"
      },
      "source": [
        "!pip install torchsummary"
      ],
      "id": "758a89ed",
      "execution_count": null,
      "outputs": []
    },
    {
      "cell_type": "markdown",
      "metadata": {
        "id": "zGfLX6Gn0aWY"
      },
      "source": [
        "Import packages"
      ],
      "id": "zGfLX6Gn0aWY"
    },
    {
      "cell_type": "code",
      "metadata": {
        "id": "b27b8a9a"
      },
      "source": [
        "import torch \n",
        "import torch.nn as nn\n",
        "import torch.nn.functional as F\n",
        "from torch.autograd import Variable\n",
        "import torch.optim as optim\n",
        "import numpy as np\n",
        "import matplotlib as plt \n",
        "%matplotlib inline \n",
        "torch.manual_seed(2)\n",
        "\n"
      ],
      "id": "b27b8a9a",
      "execution_count": null,
      "outputs": []
    },
    {
      "cell_type": "markdown",
      "metadata": {
        "id": "wT4zf8O5yA-0"
      },
      "source": [
        "A tensor can be constructed from a Python list or sequence using the torch.tensor() constructor. Using torch.tensor() to create a tensor with pre-existing data.\n",
        "\n"
      ],
      "id": "wT4zf8O5yA-0"
    },
    {
      "cell_type": "code",
      "metadata": {
        "id": "06d4dfb6"
      },
      "source": [
        "X = torch.Tensor([[0,0], [0,1], [1,0], [1,1]])"
      ],
      "id": "06d4dfb6",
      "execution_count": null,
      "outputs": []
    },
    {
      "cell_type": "code",
      "metadata": {
        "id": "c50f4e37"
      },
      "source": [
        "Y = torch.Tensor([0, 1, 1, 0]).view(-1,1)"
      ],
      "id": "c50f4e37",
      "execution_count": null,
      "outputs": []
    },
    {
      "cell_type": "markdown",
      "metadata": {
        "id": "E1m5Ct_gyIVW"
      },
      "source": [
        "Creating a neural network with below number of neurons & bias settings for each layer:\n",
        "\n",
        "1. Input layer: 2, bias = False\n",
        "2. Hidden layer: 13, bias = False \n",
        "3. Output layer: 1, bias = True \n",
        "\n"
      ],
      "id": "E1m5Ct_gyIVW"
    },
    {
      "cell_type": "code",
      "metadata": {
        "id": "31e4e663"
      },
      "source": [
        "class XOR(nn.Module):\n",
        "    def __init__(self, input_dim = 2, output_dim=1):\n",
        "        super(XOR, self).__init__()\n",
        "        self.lin1 = nn.Linear(input_dim, 2, bias=False)\n",
        "        self.lin2 = nn.Linear(2, 13, bias=False)\n",
        "        self.lin3 = nn.Linear(13, output_dim, bias=True)\n",
        "    \n",
        "    def forward(self, x):\n",
        "        x = self.lin1(x)\n",
        "        x = self.lin2(x)\n",
        "        x = self.lin3(x)\n",
        "        return x\n"
      ],
      "id": "31e4e663",
      "execution_count": null,
      "outputs": []
    },
    {
      "cell_type": "markdown",
      "metadata": {
        "id": "skKMiq8d1lo6"
      },
      "source": [
        "Neural network will train 44 parameters."
      ],
      "id": "skKMiq8d1lo6"
    },
    {
      "cell_type": "code",
      "metadata": {
        "id": "dd4a80e3"
      },
      "source": [
        "model = XOR()\n",
        "print(model)\n",
        "from torchsummary import summary\n",
        "summary(model, (2,2))"
      ],
      "id": "dd4a80e3",
      "execution_count": null,
      "outputs": []
    },
    {
      "cell_type": "markdown",
      "metadata": {
        "id": "G9HkcTWa23LD"
      },
      "source": [
        "Initialize the weight tensor, here we use a normal distribution. \n"
      ],
      "id": "G9HkcTWa23LD"
    },
    {
      "cell_type": "code",
      "metadata": {
        "id": "e69a7fc5"
      },
      "source": [
        "def weights_init(model):\n",
        "    for m in model.modules():\n",
        "        if isinstance(m, nn.Linear):\n",
        "            m.weight.data.normal_(0, 1)\n",
        "\n",
        "weights_init(model)"
      ],
      "id": "e69a7fc5",
      "execution_count": null,
      "outputs": []
    },
    {
      "cell_type": "markdown",
      "metadata": {
        "id": "THAp0Mdv3Xun"
      },
      "source": [
        "<p>The Mean Absolute Error (MAE), also called L1 Loss, computes the average of the sum of absolute differences between actual values and predicted values.</p>\n",
        "\n",
        "<p>It checks the size of errors in a set of predicted values, without caring about their positive or negative direction. If the absolute values of the errors are not used, then negative values could cancel out the positive values.</p>"
      ],
      "id": "THAp0Mdv3Xun"
    },
    {
      "cell_type": "code",
      "metadata": {
        "id": "4dd978de"
      },
      "source": [
        "loss_func = nn.L1Loss()"
      ],
      "id": "4dd978de",
      "execution_count": null,
      "outputs": []
    },
    {
      "cell_type": "markdown",
      "metadata": {
        "id": "89aiMX4c3snO"
      },
      "source": [
        "\t\n",
        "torch.optim is a package implementing various optimization algorithms. Implements stochastic gradient descent (optionally with momentum)."
      ],
      "id": "89aiMX4c3snO"
    },
    {
      "cell_type": "code",
      "metadata": {
        "id": "9faa01c2"
      },
      "source": [
        "optimizer = optim.SGD(model.parameters(), lr=0.02, momentum=0.9)\n"
      ],
      "id": "9faa01c2",
      "execution_count": null,
      "outputs": []
    },
    {
      "cell_type": "markdown",
      "metadata": {
        "id": "L5wQcOsa1wtv"
      },
      "source": [
        "Training the neural network for 2001 epochs"
      ],
      "id": "L5wQcOsa1wtv"
    },
    {
      "cell_type": "code",
      "metadata": {
        "id": "c38ed383"
      },
      "source": [
        "epochs = 2001\n",
        "steps = X.size(0)\n",
        "for i in range(epochs):\n",
        "    for j in range(steps):\n",
        "        data_point = np.random.randint(X.size(0))\n",
        "        x_var = Variable(X[data_point], requires_grad=False)\n",
        "        y_var = Variable(Y[data_point], requires_grad=False)\n",
        "        \n",
        "        optimizer.zero_grad()\n",
        "        y_hat = model(x_var)\n",
        "        loss = loss_func.forward(y_hat, y_var)\n",
        "        loss.backward()\n",
        "        optimizer.step()\n",
        "        \n",
        "    if i % 50 == 0:\n",
        "        print( \"Epoch: {0}, Loss: {1}, \".format(i, loss.data.numpy()))"
      ],
      "id": "c38ed383",
      "execution_count": null,
      "outputs": []
    }
  ]
}